{
 "cells": [
  {
   "cell_type": "code",
   "execution_count": 1,
   "id": "46bc7f8f-5c19-4365-9279-0dccbbb67f96",
   "metadata": {},
   "outputs": [],
   "source": [
    "import pandas as pd"
   ]
  },
  {
   "cell_type": "code",
   "execution_count": 2,
   "id": "db0c6a1b-7d23-4fc8-8eea-ad56cefddfab",
   "metadata": {},
   "outputs": [],
   "source": [
    "teams=pd.read_csv(\"C:/Users/HP/Olympic_Medal_Prediction/teams.csv\")"
   ]
  },
  {
   "cell_type": "code",
   "execution_count": 3,
   "id": "d2ffb542-5820-4633-b29e-5d5460a73cd1",
   "metadata": {},
   "outputs": [
    {
     "data": {
      "text/html": [
       "<div>\n",
       "<style scoped>\n",
       "    .dataframe tbody tr th:only-of-type {\n",
       "        vertical-align: middle;\n",
       "    }\n",
       "\n",
       "    .dataframe tbody tr th {\n",
       "        vertical-align: top;\n",
       "    }\n",
       "\n",
       "    .dataframe thead th {\n",
       "        text-align: right;\n",
       "    }\n",
       "</style>\n",
       "<table border=\"1\" class=\"dataframe\">\n",
       "  <thead>\n",
       "    <tr style=\"text-align: right;\">\n",
       "      <th></th>\n",
       "      <th>team</th>\n",
       "      <th>country</th>\n",
       "      <th>year</th>\n",
       "      <th>events</th>\n",
       "      <th>athletes</th>\n",
       "      <th>age</th>\n",
       "      <th>height</th>\n",
       "      <th>weight</th>\n",
       "      <th>medals</th>\n",
       "      <th>prev_medals</th>\n",
       "      <th>prev_3_medals</th>\n",
       "    </tr>\n",
       "  </thead>\n",
       "  <tbody>\n",
       "    <tr>\n",
       "      <th>0</th>\n",
       "      <td>AFG</td>\n",
       "      <td>Afghanistan</td>\n",
       "      <td>1964</td>\n",
       "      <td>8</td>\n",
       "      <td>8</td>\n",
       "      <td>22.0</td>\n",
       "      <td>161.0</td>\n",
       "      <td>64.2</td>\n",
       "      <td>0</td>\n",
       "      <td>0.0</td>\n",
       "      <td>0.0</td>\n",
       "    </tr>\n",
       "    <tr>\n",
       "      <th>1</th>\n",
       "      <td>AFG</td>\n",
       "      <td>Afghanistan</td>\n",
       "      <td>1968</td>\n",
       "      <td>5</td>\n",
       "      <td>5</td>\n",
       "      <td>23.2</td>\n",
       "      <td>170.2</td>\n",
       "      <td>70.0</td>\n",
       "      <td>0</td>\n",
       "      <td>0.0</td>\n",
       "      <td>0.0</td>\n",
       "    </tr>\n",
       "    <tr>\n",
       "      <th>2</th>\n",
       "      <td>AFG</td>\n",
       "      <td>Afghanistan</td>\n",
       "      <td>1972</td>\n",
       "      <td>8</td>\n",
       "      <td>8</td>\n",
       "      <td>29.0</td>\n",
       "      <td>168.3</td>\n",
       "      <td>63.8</td>\n",
       "      <td>0</td>\n",
       "      <td>0.0</td>\n",
       "      <td>0.0</td>\n",
       "    </tr>\n",
       "    <tr>\n",
       "      <th>3</th>\n",
       "      <td>AFG</td>\n",
       "      <td>Afghanistan</td>\n",
       "      <td>1980</td>\n",
       "      <td>11</td>\n",
       "      <td>11</td>\n",
       "      <td>23.6</td>\n",
       "      <td>168.4</td>\n",
       "      <td>63.2</td>\n",
       "      <td>0</td>\n",
       "      <td>0.0</td>\n",
       "      <td>0.0</td>\n",
       "    </tr>\n",
       "    <tr>\n",
       "      <th>4</th>\n",
       "      <td>AFG</td>\n",
       "      <td>Afghanistan</td>\n",
       "      <td>2004</td>\n",
       "      <td>5</td>\n",
       "      <td>5</td>\n",
       "      <td>18.6</td>\n",
       "      <td>170.8</td>\n",
       "      <td>64.8</td>\n",
       "      <td>0</td>\n",
       "      <td>0.0</td>\n",
       "      <td>0.0</td>\n",
       "    </tr>\n",
       "    <tr>\n",
       "      <th>...</th>\n",
       "      <td>...</td>\n",
       "      <td>...</td>\n",
       "      <td>...</td>\n",
       "      <td>...</td>\n",
       "      <td>...</td>\n",
       "      <td>...</td>\n",
       "      <td>...</td>\n",
       "      <td>...</td>\n",
       "      <td>...</td>\n",
       "      <td>...</td>\n",
       "      <td>...</td>\n",
       "    </tr>\n",
       "    <tr>\n",
       "      <th>2139</th>\n",
       "      <td>ZIM</td>\n",
       "      <td>Zimbabwe</td>\n",
       "      <td>2000</td>\n",
       "      <td>19</td>\n",
       "      <td>26</td>\n",
       "      <td>25.0</td>\n",
       "      <td>179.0</td>\n",
       "      <td>71.1</td>\n",
       "      <td>0</td>\n",
       "      <td>0.0</td>\n",
       "      <td>0.0</td>\n",
       "    </tr>\n",
       "    <tr>\n",
       "      <th>2140</th>\n",
       "      <td>ZIM</td>\n",
       "      <td>Zimbabwe</td>\n",
       "      <td>2004</td>\n",
       "      <td>11</td>\n",
       "      <td>14</td>\n",
       "      <td>25.1</td>\n",
       "      <td>177.8</td>\n",
       "      <td>70.5</td>\n",
       "      <td>3</td>\n",
       "      <td>0.0</td>\n",
       "      <td>0.0</td>\n",
       "    </tr>\n",
       "    <tr>\n",
       "      <th>2141</th>\n",
       "      <td>ZIM</td>\n",
       "      <td>Zimbabwe</td>\n",
       "      <td>2008</td>\n",
       "      <td>15</td>\n",
       "      <td>16</td>\n",
       "      <td>26.1</td>\n",
       "      <td>171.9</td>\n",
       "      <td>63.7</td>\n",
       "      <td>4</td>\n",
       "      <td>3.0</td>\n",
       "      <td>1.0</td>\n",
       "    </tr>\n",
       "    <tr>\n",
       "      <th>2142</th>\n",
       "      <td>ZIM</td>\n",
       "      <td>Zimbabwe</td>\n",
       "      <td>2012</td>\n",
       "      <td>8</td>\n",
       "      <td>9</td>\n",
       "      <td>27.3</td>\n",
       "      <td>174.4</td>\n",
       "      <td>65.2</td>\n",
       "      <td>0</td>\n",
       "      <td>4.0</td>\n",
       "      <td>2.3</td>\n",
       "    </tr>\n",
       "    <tr>\n",
       "      <th>2143</th>\n",
       "      <td>ZIM</td>\n",
       "      <td>Zimbabwe</td>\n",
       "      <td>2016</td>\n",
       "      <td>13</td>\n",
       "      <td>31</td>\n",
       "      <td>27.5</td>\n",
       "      <td>167.8</td>\n",
       "      <td>62.2</td>\n",
       "      <td>0</td>\n",
       "      <td>0.0</td>\n",
       "      <td>2.3</td>\n",
       "    </tr>\n",
       "  </tbody>\n",
       "</table>\n",
       "<p>2144 rows × 11 columns</p>\n",
       "</div>"
      ],
      "text/plain": [
       "     team      country  year  events  athletes   age  height  weight  medals  \\\n",
       "0     AFG  Afghanistan  1964       8         8  22.0   161.0    64.2       0   \n",
       "1     AFG  Afghanistan  1968       5         5  23.2   170.2    70.0       0   \n",
       "2     AFG  Afghanistan  1972       8         8  29.0   168.3    63.8       0   \n",
       "3     AFG  Afghanistan  1980      11        11  23.6   168.4    63.2       0   \n",
       "4     AFG  Afghanistan  2004       5         5  18.6   170.8    64.8       0   \n",
       "...   ...          ...   ...     ...       ...   ...     ...     ...     ...   \n",
       "2139  ZIM     Zimbabwe  2000      19        26  25.0   179.0    71.1       0   \n",
       "2140  ZIM     Zimbabwe  2004      11        14  25.1   177.8    70.5       3   \n",
       "2141  ZIM     Zimbabwe  2008      15        16  26.1   171.9    63.7       4   \n",
       "2142  ZIM     Zimbabwe  2012       8         9  27.3   174.4    65.2       0   \n",
       "2143  ZIM     Zimbabwe  2016      13        31  27.5   167.8    62.2       0   \n",
       "\n",
       "      prev_medals  prev_3_medals  \n",
       "0             0.0            0.0  \n",
       "1             0.0            0.0  \n",
       "2             0.0            0.0  \n",
       "3             0.0            0.0  \n",
       "4             0.0            0.0  \n",
       "...           ...            ...  \n",
       "2139          0.0            0.0  \n",
       "2140          0.0            0.0  \n",
       "2141          3.0            1.0  \n",
       "2142          4.0            2.3  \n",
       "2143          0.0            2.3  \n",
       "\n",
       "[2144 rows x 11 columns]"
      ]
     },
     "execution_count": 3,
     "metadata": {},
     "output_type": "execute_result"
    }
   ],
   "source": [
    "teams"
   ]
  },
  {
   "cell_type": "code",
   "execution_count": 4,
   "id": "429d9a06-9665-4d54-9405-eff335a301e3",
   "metadata": {},
   "outputs": [],
   "source": [
    "teams = teams[[\"team\",\"country\",\"year\",\"events\",\"athletes\",\"age\" ,\"medals\",\"prev_medals\"]]"
   ]
  },
  {
   "cell_type": "code",
   "execution_count": 5,
   "id": "1139e205-da0b-4387-9197-b766dec5d617",
   "metadata": {},
   "outputs": [
    {
     "data": {
      "text/html": [
       "<div>\n",
       "<style scoped>\n",
       "    .dataframe tbody tr th:only-of-type {\n",
       "        vertical-align: middle;\n",
       "    }\n",
       "\n",
       "    .dataframe tbody tr th {\n",
       "        vertical-align: top;\n",
       "    }\n",
       "\n",
       "    .dataframe thead th {\n",
       "        text-align: right;\n",
       "    }\n",
       "</style>\n",
       "<table border=\"1\" class=\"dataframe\">\n",
       "  <thead>\n",
       "    <tr style=\"text-align: right;\">\n",
       "      <th></th>\n",
       "      <th>team</th>\n",
       "      <th>country</th>\n",
       "      <th>year</th>\n",
       "      <th>events</th>\n",
       "      <th>athletes</th>\n",
       "      <th>age</th>\n",
       "      <th>medals</th>\n",
       "      <th>prev_medals</th>\n",
       "    </tr>\n",
       "  </thead>\n",
       "  <tbody>\n",
       "    <tr>\n",
       "      <th>0</th>\n",
       "      <td>AFG</td>\n",
       "      <td>Afghanistan</td>\n",
       "      <td>1964</td>\n",
       "      <td>8</td>\n",
       "      <td>8</td>\n",
       "      <td>22.0</td>\n",
       "      <td>0</td>\n",
       "      <td>0.0</td>\n",
       "    </tr>\n",
       "    <tr>\n",
       "      <th>1</th>\n",
       "      <td>AFG</td>\n",
       "      <td>Afghanistan</td>\n",
       "      <td>1968</td>\n",
       "      <td>5</td>\n",
       "      <td>5</td>\n",
       "      <td>23.2</td>\n",
       "      <td>0</td>\n",
       "      <td>0.0</td>\n",
       "    </tr>\n",
       "    <tr>\n",
       "      <th>2</th>\n",
       "      <td>AFG</td>\n",
       "      <td>Afghanistan</td>\n",
       "      <td>1972</td>\n",
       "      <td>8</td>\n",
       "      <td>8</td>\n",
       "      <td>29.0</td>\n",
       "      <td>0</td>\n",
       "      <td>0.0</td>\n",
       "    </tr>\n",
       "    <tr>\n",
       "      <th>3</th>\n",
       "      <td>AFG</td>\n",
       "      <td>Afghanistan</td>\n",
       "      <td>1980</td>\n",
       "      <td>11</td>\n",
       "      <td>11</td>\n",
       "      <td>23.6</td>\n",
       "      <td>0</td>\n",
       "      <td>0.0</td>\n",
       "    </tr>\n",
       "    <tr>\n",
       "      <th>4</th>\n",
       "      <td>AFG</td>\n",
       "      <td>Afghanistan</td>\n",
       "      <td>2004</td>\n",
       "      <td>5</td>\n",
       "      <td>5</td>\n",
       "      <td>18.6</td>\n",
       "      <td>0</td>\n",
       "      <td>0.0</td>\n",
       "    </tr>\n",
       "    <tr>\n",
       "      <th>...</th>\n",
       "      <td>...</td>\n",
       "      <td>...</td>\n",
       "      <td>...</td>\n",
       "      <td>...</td>\n",
       "      <td>...</td>\n",
       "      <td>...</td>\n",
       "      <td>...</td>\n",
       "      <td>...</td>\n",
       "    </tr>\n",
       "    <tr>\n",
       "      <th>2139</th>\n",
       "      <td>ZIM</td>\n",
       "      <td>Zimbabwe</td>\n",
       "      <td>2000</td>\n",
       "      <td>19</td>\n",
       "      <td>26</td>\n",
       "      <td>25.0</td>\n",
       "      <td>0</td>\n",
       "      <td>0.0</td>\n",
       "    </tr>\n",
       "    <tr>\n",
       "      <th>2140</th>\n",
       "      <td>ZIM</td>\n",
       "      <td>Zimbabwe</td>\n",
       "      <td>2004</td>\n",
       "      <td>11</td>\n",
       "      <td>14</td>\n",
       "      <td>25.1</td>\n",
       "      <td>3</td>\n",
       "      <td>0.0</td>\n",
       "    </tr>\n",
       "    <tr>\n",
       "      <th>2141</th>\n",
       "      <td>ZIM</td>\n",
       "      <td>Zimbabwe</td>\n",
       "      <td>2008</td>\n",
       "      <td>15</td>\n",
       "      <td>16</td>\n",
       "      <td>26.1</td>\n",
       "      <td>4</td>\n",
       "      <td>3.0</td>\n",
       "    </tr>\n",
       "    <tr>\n",
       "      <th>2142</th>\n",
       "      <td>ZIM</td>\n",
       "      <td>Zimbabwe</td>\n",
       "      <td>2012</td>\n",
       "      <td>8</td>\n",
       "      <td>9</td>\n",
       "      <td>27.3</td>\n",
       "      <td>0</td>\n",
       "      <td>4.0</td>\n",
       "    </tr>\n",
       "    <tr>\n",
       "      <th>2143</th>\n",
       "      <td>ZIM</td>\n",
       "      <td>Zimbabwe</td>\n",
       "      <td>2016</td>\n",
       "      <td>13</td>\n",
       "      <td>31</td>\n",
       "      <td>27.5</td>\n",
       "      <td>0</td>\n",
       "      <td>0.0</td>\n",
       "    </tr>\n",
       "  </tbody>\n",
       "</table>\n",
       "<p>2144 rows × 8 columns</p>\n",
       "</div>"
      ],
      "text/plain": [
       "     team      country  year  events  athletes   age  medals  prev_medals\n",
       "0     AFG  Afghanistan  1964       8         8  22.0       0          0.0\n",
       "1     AFG  Afghanistan  1968       5         5  23.2       0          0.0\n",
       "2     AFG  Afghanistan  1972       8         8  29.0       0          0.0\n",
       "3     AFG  Afghanistan  1980      11        11  23.6       0          0.0\n",
       "4     AFG  Afghanistan  2004       5         5  18.6       0          0.0\n",
       "...   ...          ...   ...     ...       ...   ...     ...          ...\n",
       "2139  ZIM     Zimbabwe  2000      19        26  25.0       0          0.0\n",
       "2140  ZIM     Zimbabwe  2004      11        14  25.1       3          0.0\n",
       "2141  ZIM     Zimbabwe  2008      15        16  26.1       4          3.0\n",
       "2142  ZIM     Zimbabwe  2012       8         9  27.3       0          4.0\n",
       "2143  ZIM     Zimbabwe  2016      13        31  27.5       0          0.0\n",
       "\n",
       "[2144 rows x 8 columns]"
      ]
     },
     "execution_count": 5,
     "metadata": {},
     "output_type": "execute_result"
    }
   ],
   "source": [
    "teams"
   ]
  },
  {
   "cell_type": "code",
   "execution_count": 6,
   "id": "87df492c-da33-474a-ab73-1299dc28b1ca",
   "metadata": {},
   "outputs": [
    {
     "data": {
      "text/plain": [
       "year          -0.021603\n",
       "events         0.771330\n",
       "athletes       0.840817\n",
       "age            0.025096\n",
       "medals         1.000000\n",
       "prev_medals    0.920048\n",
       "Name: medals, dtype: float64"
      ]
     },
     "execution_count": 6,
     "metadata": {},
     "output_type": "execute_result"
    }
   ],
   "source": [
    "teams.corr()[\"medals\"]"
   ]
  },
  {
   "cell_type": "code",
   "execution_count": null,
   "id": "1c3f3914-0cd3-4a1e-b2b8-eadf363ed346",
   "metadata": {},
   "outputs": [],
   "source": [
    "import seaborn as sns"
   ]
  },
  {
   "cell_type": "code",
   "execution_count": null,
   "id": "07e56ff9-8f43-4fcf-a759-b72990196ca8",
   "metadata": {},
   "outputs": [],
   "source": [
    "sns.lmplot(x=\"athletes\",y=\"medals\",data=teams,fit_reg=True, ci=None)"
   ]
  },
  {
   "cell_type": "code",
   "execution_count": null,
   "id": "5e02f1c5-ea0e-4a53-8d41-61beef340fff",
   "metadata": {},
   "outputs": [],
   "source": [
    "sns.lmplot(x=\"age\",y=\"medals\",data=teams,fit_reg=True, ci=None)"
   ]
  },
  {
   "cell_type": "code",
   "execution_count": null,
   "id": "16616244-401d-4b0c-a2c0-dda5a9701241",
   "metadata": {},
   "outputs": [],
   "source": [
    "teams.plot.hist(y=\"medals\")"
   ]
  },
  {
   "cell_type": "code",
   "execution_count": null,
   "id": "c12e1e8d-85da-4422-a4a3-b4e0aa6031ae",
   "metadata": {},
   "outputs": [],
   "source": [
    "teams[teams.isnull().any(axis=1)]"
   ]
  },
  {
   "cell_type": "code",
   "execution_count": null,
   "id": "ca47e12a-d3aa-4099-9b01-50cf8da7b36b",
   "metadata": {},
   "outputs": [],
   "source": [
    "teams=teams.dropna()"
   ]
  },
  {
   "cell_type": "code",
   "execution_count": null,
   "id": "9fe211cf-b554-4a40-91ff-b73b4be99b96",
   "metadata": {},
   "outputs": [],
   "source": [
    "teams\n"
   ]
  },
  {
   "cell_type": "code",
   "execution_count": null,
   "id": "ac630f84-2e76-4936-a916-da6608078092",
   "metadata": {},
   "outputs": [],
   "source": [
    "train =teams[teams[\"year\"]<2012].copy()\n",
    "test=teams[teams[\"year\"]>=2012].copy()"
   ]
  },
  {
   "cell_type": "code",
   "execution_count": null,
   "id": "3b0b62e4-0afe-4d1c-9f15-7be705f968a2",
   "metadata": {},
   "outputs": [],
   "source": [
    "train\n"
   ]
  },
  {
   "cell_type": "code",
   "execution_count": null,
   "id": "26589825-606d-457b-91a8-c1f9868db4cb",
   "metadata": {},
   "outputs": [],
   "source": [
    "test"
   ]
  },
  {
   "cell_type": "code",
   "execution_count": null,
   "id": "c122b4f0-2789-4c0d-bb05-1ee1aa642869",
   "metadata": {},
   "outputs": [],
   "source": [
    "train.shape"
   ]
  },
  {
   "cell_type": "code",
   "execution_count": null,
   "id": "360b94b9-b10b-495a-9f25-55a37e80931d",
   "metadata": {},
   "outputs": [],
   "source": [
    "test.shape"
   ]
  },
  {
   "cell_type": "code",
   "execution_count": null,
   "id": "fdbd6fd2-0b82-4e08-b327-f1978429cb59",
   "metadata": {},
   "outputs": [],
   "source": [
    "from sklearn.linear_model import LinearRegression"
   ]
  },
  {
   "cell_type": "code",
   "execution_count": null,
   "id": "d86e7fdd-f5b3-420b-bcec-1eb5895a67f1",
   "metadata": {},
   "outputs": [],
   "source": [
    "reg=LinearRegression()"
   ]
  },
  {
   "cell_type": "code",
   "execution_count": null,
   "id": "5d6428a1-70ed-44bb-81f4-452588662c05",
   "metadata": {},
   "outputs": [],
   "source": [
    "predictors=[\"athletes\",\"prev_medals\"]"
   ]
  },
  {
   "cell_type": "code",
   "execution_count": null,
   "id": "aebba582-ab2d-4181-b2bc-661f927ea1a9",
   "metadata": {},
   "outputs": [],
   "source": [
    "target=\"medals\""
   ]
  },
  {
   "cell_type": "code",
   "execution_count": null,
   "id": "ed4b479e-d052-4671-842e-f02da2d7457c",
   "metadata": {},
   "outputs": [],
   "source": [
    "reg.fit(train[predictors],train[\"medals\"])"
   ]
  },
  {
   "cell_type": "code",
   "execution_count": null,
   "id": "b354b9ac-db23-41c7-961b-f70a7f8312bb",
   "metadata": {},
   "outputs": [],
   "source": [
    "predictions=reg.predict(test[predictors])"
   ]
  },
  {
   "cell_type": "code",
   "execution_count": null,
   "id": "d4bfca84-1dec-4eae-b0de-0b650cb9a55f",
   "metadata": {},
   "outputs": [],
   "source": [
    "predictions\n"
   ]
  },
  {
   "cell_type": "code",
   "execution_count": null,
   "id": "98ec552b-d68a-4514-a344-8b5ccf1ebf5e",
   "metadata": {},
   "outputs": [],
   "source": [
    "test[\"predictions\"]=predictions"
   ]
  },
  {
   "cell_type": "code",
   "execution_count": null,
   "id": "a0a25f6f-8b8b-4d70-b321-086f4787047d",
   "metadata": {},
   "outputs": [],
   "source": [
    "test"
   ]
  },
  {
   "cell_type": "code",
   "execution_count": null,
   "id": "689f970c-5500-42e0-9e60-892cb1eda1f7",
   "metadata": {},
   "outputs": [],
   "source": [
    "test.loc[test[\"predictions\"]<0,\"predictions\"]=0"
   ]
  },
  {
   "cell_type": "code",
   "execution_count": null,
   "id": "2f2d1b40-eb6c-43bd-be9b-0d8e6e6820c6",
   "metadata": {},
   "outputs": [],
   "source": [
    "test"
   ]
  },
  {
   "cell_type": "code",
   "execution_count": null,
   "id": "34256ec0-b0e5-4d1f-a87e-6c7e908aefc7",
   "metadata": {},
   "outputs": [],
   "source": [
    "test[\"predictions\"]=test[\"predictions\"].round()"
   ]
  },
  {
   "cell_type": "code",
   "execution_count": null,
   "id": "cec76af4-ba30-41a1-a63a-c0d6aac78786",
   "metadata": {},
   "outputs": [],
   "source": [
    "test\n"
   ]
  },
  {
   "cell_type": "code",
   "execution_count": null,
   "id": "f2fd88e2-031a-4c8c-bce8-3d6e00021937",
   "metadata": {},
   "outputs": [],
   "source": [
    "from sklearn.metrics import mean_absolute_error"
   ]
  },
  {
   "cell_type": "code",
   "execution_count": null,
   "id": "9a7f8acd-97e1-4205-b8cb-ed8da9ffa6b6",
   "metadata": {},
   "outputs": [],
   "source": [
    "error=mean_absolute_error(test[\"medals\"],test[\"predictions\"])"
   ]
  },
  {
   "cell_type": "code",
   "execution_count": null,
   "id": "5a5a0bbd-3626-4b03-a6a5-5ee037f37282",
   "metadata": {},
   "outputs": [],
   "source": [
    "error\n"
   ]
  },
  {
   "cell_type": "code",
   "execution_count": null,
   "id": "fdba6b20-198e-4e71-8f32-d00065e6cfcb",
   "metadata": {},
   "outputs": [],
   "source": [
    "teams.describe()[\"medals\"]"
   ]
  },
  {
   "cell_type": "code",
   "execution_count": null,
   "id": "eb819ac9-f4f8-4381-a6c1-453c330310a0",
   "metadata": {},
   "outputs": [],
   "source": [
    "test[test[\"team\"]==\"IND\"]"
   ]
  },
  {
   "cell_type": "code",
   "execution_count": null,
   "id": "95d5c412-ec89-4e35-a3bb-11a251b80fdb",
   "metadata": {},
   "outputs": [],
   "source": [
    "errors=(test[\"medals\"]-test[\"predictions\"]).abs()"
   ]
  },
  {
   "cell_type": "code",
   "execution_count": null,
   "id": "0858deb5-c5bf-40ec-bb30-725ac4e59e43",
   "metadata": {},
   "outputs": [],
   "source": [
    "errors"
   ]
  },
  {
   "cell_type": "code",
   "execution_count": null,
   "id": "11f0baa6-0099-4808-b0a9-220582cce043",
   "metadata": {},
   "outputs": [],
   "source": [
    "error_by_team=errors.groupby(test[\"team\"]).mean()"
   ]
  },
  {
   "cell_type": "code",
   "execution_count": null,
   "id": "c15812db-13a0-4a98-800e-4bb1890464b0",
   "metadata": {},
   "outputs": [],
   "source": [
    "error_by_team"
   ]
  },
  {
   "cell_type": "code",
   "execution_count": null,
   "id": "7a625f64-d311-4eb9-94fb-aada9b54bd53",
   "metadata": {},
   "outputs": [],
   "source": [
    "medals_by_team=test[\"medals\"].groupby(test[\"team\"]).mean()"
   ]
  },
  {
   "cell_type": "code",
   "execution_count": null,
   "id": "0bb16015-3c39-4057-b439-73a81120cf61",
   "metadata": {},
   "outputs": [],
   "source": [
    "medals_by_team\n"
   ]
  },
  {
   "cell_type": "code",
   "execution_count": null,
   "id": "7e6b2c7e-a014-494c-aa9f-62cf9ba90ee0",
   "metadata": {},
   "outputs": [],
   "source": [
    "error_ratio=error_by_team/medals_by_team"
   ]
  },
  {
   "cell_type": "code",
   "execution_count": null,
   "id": "4a926a02-07d0-4975-8009-578932e156f3",
   "metadata": {},
   "outputs": [],
   "source": [
    "error_ratio\n"
   ]
  },
  {
   "cell_type": "code",
   "execution_count": null,
   "id": "cace258e-85c0-42af-895d-f05abffb9bf8",
   "metadata": {},
   "outputs": [],
   "source": [
    "error_ratio[~pd.isnull(error_ratio)]"
   ]
  },
  {
   "cell_type": "code",
   "execution_count": null,
   "id": "f487f719-5e42-4530-9385-04253c15eb70",
   "metadata": {},
   "outputs": [],
   "source": [
    "import numpy as np\n",
    "error_ratio=error_ratio[np.isfinite(error_ratio)]"
   ]
  },
  {
   "cell_type": "code",
   "execution_count": null,
   "id": "9d4cff21-bc3d-48e1-8f75-708d6b8649c6",
   "metadata": {},
   "outputs": [],
   "source": [
    "error_ratio\n"
   ]
  },
  {
   "cell_type": "code",
   "execution_count": null,
   "id": "699420e7-34e0-49d1-b7dd-28bb1c346a27",
   "metadata": {},
   "outputs": [],
   "source": [
    "error_ratio.plot.hist()"
   ]
  },
  {
   "cell_type": "code",
   "execution_count": null,
   "id": "530c0bbf-385e-4ae1-b72a-1f88b1d3f3ce",
   "metadata": {},
   "outputs": [],
   "source": [
    "error_ratio.sort_values()"
   ]
  },
  {
   "cell_type": "code",
   "execution_count": null,
   "id": "db2fde34-56cc-4c50-99ab-e29828f3eaa6",
   "metadata": {},
   "outputs": [],
   "source": []
  }
 ],
 "metadata": {
  "kernelspec": {
   "display_name": "Python 3 (ipykernel)",
   "language": "python",
   "name": "python3"
  },
  "language_info": {
   "codemirror_mode": {
    "name": "ipython",
    "version": 3
   },
   "file_extension": ".py",
   "mimetype": "text/x-python",
   "name": "python",
   "nbconvert_exporter": "python",
   "pygments_lexer": "ipython3",
   "version": "3.9.15"
  }
 },
 "nbformat": 4,
 "nbformat_minor": 5
}
